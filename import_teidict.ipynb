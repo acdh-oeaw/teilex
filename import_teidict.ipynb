{
 "cells": [
  {
   "cell_type": "code",
   "execution_count": 2,
   "metadata": {
    "collapsed": true
   },
   "outputs": [],
   "source": [
    "import lxml.etree as ET\n",
    "from words import tei\n",
    "import xmltodict as xd"
   ]
  },
  {
   "cell_type": "code",
   "execution_count": 3,
   "metadata": {
    "collapsed": true
   },
   "outputs": [],
   "source": [
    "data = tei.TeiReader('words/data/data.xml')"
   ]
  },
  {
   "cell_type": "code",
   "execution_count": 4,
   "metadata": {
    "collapsed": true
   },
   "outputs": [],
   "source": [
    "conceptschemes = ['word_type', 'pos', 'gender', 'subc', 'usg', 'morph_type']"
   ]
  },
  {
   "cell_type": "code",
   "execution_count": 5,
   "metadata": {
    "collapsed": true
   },
   "outputs": [],
   "source": [
    "def create_word(legacy_id, lang, orth, wordtype):\n",
    "    lang_scheme,_ = SkosConceptScheme.objects.get_or_create(dc_title='language')\n",
    "    lang_concept,_ = SkosConcept.objects.get_or_create(pref_label=lang)\n",
    "    lang_concept.scheme.set([lang_scheme])\n",
    "    word_type_scheme,_ = SkosConceptScheme.objects.get_or_create(dc_title='word type')\n",
    "    word_type,_ = SkosConcept.objects.get_or_create(pref_label=wordtype)\n",
    "    word_type.scheme.set([word_type_scheme])\n",
    "    new_word,_ = Word.objects.get_or_create(\n",
    "        legacy_id=legacy_id,\n",
    "        word_type=word_type,\n",
    "        orth=orth,\n",
    "        language=lang_concept\n",
    "    )\n",
    "    return new_word    "
   ]
  },
  {
   "cell_type": "code",
   "execution_count": 6,
   "metadata": {
    "collapsed": true
   },
   "outputs": [],
   "source": [
    "def add_concept_as_fk(objectinstance, conceptschemes, valuelist, scheme='scheme', pref_label='pref_label'):\n",
    "    \"\"\"adds concepts to objects\"\"\"\n",
    "    objects = []\n",
    "    for x in conceptschemes:\n",
    "        if valuelist.get(scheme) == x:\n",
    "            label = valuelist.get(pref_label, 'no {} provided'.format(x))\n",
    "            concept,_ = SkosConcept.objects.get_or_create(\n",
    "                    pref_label=label\n",
    "                )\n",
    "            concept.scheme.add(\n",
    "                    SkosConceptScheme.objects.get_or_create(dc_title=x)[0]\n",
    "                )\n",
    "            setattr(objectinstance, x, concept)\n",
    "            objectinstance.save()\n",
    "            objects.append(objectinstance)\n",
    "    return objects"
   ]
  },
  {
   "cell_type": "code",
   "execution_count": 7,
   "metadata": {
    "collapsed": true
   },
   "outputs": [],
   "source": [
    "for x in conceptschemes:\n",
    "    SkosConceptScheme.objects.get_or_create(\n",
    "        dc_title=x\n",
    "    )"
   ]
  },
  {
   "cell_type": "code",
   "execution_count": 8,
   "metadata": {
    "collapsed": true
   },
   "outputs": [],
   "source": [
    "entries = data.find_elements('entry')"
   ]
  },
  {
   "cell_type": "code",
   "execution_count": 15,
   "metadata": {},
   "outputs": [],
   "source": [
    "for x in entries['hits'][0:25]:\n",
    "    entry = (xd.parse(ET.tostring(x)))['entry']\n",
    "    legacy_id = entry.get('@xml:id', 'NO ID')\n",
    "    forms = entry['form']\n",
    "    if isinstance(forms, list):\n",
    "        for form in forms:\n",
    "            if form.get('@type') == 'lemma':\n",
    "                temp_word = create_word(\n",
    "                    entry.get('@xml:id', 'NO ID'),\n",
    "                    form['orth'].get('@xml:lang', 'no lang'),\n",
    "                    form['orth'].get('#text', 'NO TEXT'),\n",
    "                    'lemma'\n",
    "                )\n",
    "            elif form.get('@type') == 'variant':\n",
    "                temp_variant = create_word(\n",
    "                    entry.get('@xml:id', 'NO ID'),\n",
    "                    form['orth'].get('@xml:lang', 'no lang'),\n",
    "                    form['orth'].get('#text', 'NO TEXT'),\n",
    "                    'variant'\n",
    "                )\n",
    "                temp_word.has_form.add(temp_variant)\n",
    "        temp_word.save()\n",
    "    else:\n",
    "        form = forms\n",
    "        temp_word = create_word(\n",
    "                    entry.get('@xml:id', 'NO ID'),\n",
    "                    form['orth'].get('@xml:lang', 'no lang'),\n",
    "                    form['orth'].get('#text', 'NO TEXT'),\n",
    "                    'lemma'\n",
    "                )\n",
    "        if form.get('form'):\n",
    "            form = form.get('form')\n",
    "            if isinstance(form, list):\n",
    "                for form in form:\n",
    "                    if form.get('@type') == 'lemma':\n",
    "                        temp_word = create_word(\n",
    "                            entry.get('@xml:id', 'NO ID'),\n",
    "                            form['orth'].get('@xml:lang', 'no lang'),\n",
    "                            form['orth'].get('#text', 'NO TEXT'),\n",
    "                            'lemma'\n",
    "                        )\n",
    "            else:\n",
    "                temp_variant = create_word(\n",
    "                        entry.get('@xml:id', 'NO ID'),\n",
    "                        form['orth'].get('@xml:lang', 'no lang'),\n",
    "                        form['orth'].get('#text', 'NO TEXT'),\n",
    "                        'variant'\n",
    "                    )\n",
    "                temp_word.has_form.add(temp_variant)\n",
    "    senses = entry.get('sense', 'no sense')\n",
    "    if isinstance(senses, list):\n",
    "        for sense in senses:\n",
    "            try:\n",
    "                temp_sense = create_word(\n",
    "                    entry.get('@xml:id', 'NO ID'),\n",
    "                    cit.get('@xml:lang', 'NO TEXT'),\n",
    "                    cit.get('quote', 'NO TEXT'),\n",
    "                    cit.get('@type', 'no cit type')\n",
    "                )\n",
    "                temp_word.has_sense.add(temp_sense)\n",
    "                temp_word.save()\n",
    "            except:\n",
    "                pass\n",
    "        \n",
    "    else:\n",
    "        senses = senses['cit']\n",
    "        for cit in senses:\n",
    "            try:\n",
    "                temp_sense = create_word(\n",
    "                    entry.get('@xml:id', 'NO ID'),\n",
    "                    cit.get('@xml:lang', 'NO TEXT'),\n",
    "                    cit.get('quote', 'NO TEXT'),\n",
    "                    cit.get('@type', 'no cit type')\n",
    "                )\n",
    "                temp_word.has_sense.add(temp_sense)\n",
    "                temp_word.save()\n",
    "            except:\n",
    "                pass\n",
    "                \n",
    "    try:\n",
    "        gramtypes = entry['gramGrp']\n",
    "        if not isinstance(entry.get('gramGrp'), list):\n",
    "            if isinstance(entry['gramGrp'].get('gram'), list):\n",
    "                for gram in entry['gramGrp'].get('gram'):\n",
    "                    if not isinstance(gram, str):\n",
    "                        if gram.get('@type') == 'root':\n",
    "                            temp_gram = create_word(\n",
    "                                entry.get('@xml:id', 'NO ID'),\n",
    "                                gram.get('@xml:lang', 'NO TEXT'),\n",
    "                                gram.get('#text', 'NO TEXT'),\n",
    "                                'root'\n",
    "                            )\n",
    "                            temp_word.has_gram.add(temp_gram)\n",
    "                            temp_word.save()\n",
    "                        else:  \n",
    "                            new = add_concept_as_fk(temp_word, conceptschemes, gram, scheme='@type', pref_label='#text')\n",
    "                        \n",
    "    except KeyError:\n",
    "        pass\n",
    "    temp_word.save()"
   ]
  },
  {
   "cell_type": "code",
   "execution_count": null,
   "metadata": {
    "collapsed": true
   },
   "outputs": [],
   "source": []
  }
 ],
 "metadata": {
  "kernelspec": {
   "display_name": "Django Shell-Plus",
   "language": "python",
   "name": "django_extensions"
  },
  "language_info": {
   "codemirror_mode": {
    "name": "ipython",
    "version": 3
   },
   "file_extension": ".py",
   "mimetype": "text/x-python",
   "name": "python",
   "nbconvert_exporter": "python",
   "pygments_lexer": "ipython3",
   "version": "3.6.2"
  }
 },
 "nbformat": 4,
 "nbformat_minor": 2
}
